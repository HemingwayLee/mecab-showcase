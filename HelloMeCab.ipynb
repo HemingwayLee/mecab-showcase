{
 "cells": [
  {
   "cell_type": "code",
   "execution_count": 1,
   "metadata": {},
   "outputs": [],
   "source": [
    "import MeCab"
   ]
  },
  {
   "cell_type": "markdown",
   "metadata": {},
   "source": [
    "# word segmentation"
   ]
  },
  {
   "cell_type": "code",
   "execution_count": 2,
   "metadata": {},
   "outputs": [
    {
     "name": "stdout",
     "output_type": "stream",
     "text": [
      "明日 は 木曜日 です よ ね 。 木曜日 は ちょっと 。 \n",
      "\n"
     ]
    }
   ],
   "source": [
    "mecab1 = MeCab.Tagger(\"-Owakati\")\n",
    "print(mecab1.parse(\"明日は木曜日ですよね。木曜日はちょっと。\"))"
   ]
  },
  {
   "cell_type": "markdown",
   "metadata": {},
   "source": [
    "# show details"
   ]
  },
  {
   "cell_type": "code",
   "execution_count": 3,
   "metadata": {},
   "outputs": [
    {
     "name": "stdout",
     "output_type": "stream",
     "text": [
      "明日\tアシタ\t明日\t名詞-副詞可能\t\t\n",
      "は\tハ\tは\t助詞-係助詞\t\t\n",
      "木曜日\tモクヨウビ\t木曜日\t名詞-副詞可能\t\t\n",
      "です\tデス\tです\t助動詞\t特殊・デス\t基本形\n",
      "よ\tヨ\tよ\t助詞-終助詞\t\t\n",
      "ね\tネ\tね\t助詞-終助詞\t\t\n",
      "。\t。\t。\t記号-句点\t\t\n",
      "木曜日\tモクヨウビ\t木曜日\t名詞-副詞可能\t\t\n",
      "は\tハ\tは\t助詞-係助詞\t\t\n",
      "ちょっと\tチョット\tちょっと\t副詞-助詞類接続\t\t\n",
      "。\t。\t。\t記号-句点\t\t\n",
      "EOS\n",
      "\n"
     ]
    }
   ],
   "source": [
    "mecab2 = MeCab.Tagger(\"-Ochasen\")\n",
    "print(mecab2.parse(\"明日は木曜日ですよね。木曜日はちょっと。\"))"
   ]
  },
  {
   "cell_type": "markdown",
   "metadata": {},
   "source": [
    "## it can show named entities (location, company name, name, ...)"
   ]
  },
  {
   "cell_type": "code",
   "execution_count": 4,
   "metadata": {},
   "outputs": [
    {
     "name": "stdout",
     "output_type": "stream",
     "text": [
      "沖縄\tオキナワ\t沖縄\t名詞-固有名詞-地域-一般\t\t\n",
      "・\t・\t・\t記号-一般\t\t\n",
      "北谷\tキタヤ\t北谷\t名詞-固有名詞-人名-姓\t\t\n",
      "。\t。\t。\t記号-句点\t\t\n",
      "ロッテ\tロッテ\tロッテ\t名詞-固有名詞-組織\t\t\n",
      "の\tノ\tの\t助詞-連体化\t\t\n",
      "藤原\tフジワラ\t藤原\t名詞-固有名詞-人名-姓\t\t\n",
      "恭\tキョウ\t恭\t名詞-固有名詞-人名-名\t\t\n",
      "大\tダイ\t大\t接頭詞-名詞接続\t\t\n",
      "外野\tガイヤ\t外野\t名詞-一般\t\t\n",
      "手\tシュ\t手\t名詞-接尾-一般\t\t\n",
      "（\t（\t（\t記号-括弧開\t\t\n",
      "１\tイチ\t１\t名詞-数\t\t\n",
      "８\tハチ\t８\t名詞-数\t\t\n",
      "）\t）\t）\t記号-括弧閉\t\t\n",
      "が\tガ\tが\t助詞-格助詞-一般\t\t\n",
      "１\tイチ\t１\t名詞-数\t\t\n",
      "４\tヨン\t４\t名詞-数\t\t\n",
      "日\tニチ\t日\t名詞-接尾-助数詞\t\t\n",
      "、\t、\t、\t記号-読点\t\t\n",
      "中日\tチュウニチ\t中日\t名詞-固有名詞-組織\t\t\n",
      "と\tト\tと\t助詞-格助詞-一般\t\t\n",
      "の\tノ\tの\t助詞-連体化\t\t\n",
      "練習\tレンシュウ\t練習\t名詞-サ変接続\t\t\n",
      "試合\tシアイ\t試合\t名詞-サ変接続\t\t\n",
      "（\t（\t（\t記号-括弧開\t\t\n",
      "北谷\tキタヤ\t北谷\t名詞-固有名詞-人名-姓\t\t\n",
      "）\t）\t）\t記号-括弧閉\t\t\n",
      "に\tニ\tに\t助詞-格助詞-一般\t\t\n",
      "「\t「\t「\t記号-括弧開\t\t\n",
      "１\tイチ\t１\t名詞-数\t\t\n",
      "番\tバン\t番\t名詞-接尾-助数詞\t\t\n",
      "・\t・\t・\t記号-一般\t\t\n",
      "中堅\tチュウケン\t中堅\t名詞-一般\t\t\n",
      "」\t」\t」\t記号-括弧閉\t\t\n",
      "で\tデ\tで\t助詞-格助詞-一般\t\t\n",
      "スタメン\tスタメン\tスタメン\t名詞-一般\t\t\n",
      "出場\tシュツジョウ\t出場\t名詞-サ変接続\t\t\n",
      "。\t。\t。\t記号-句点\t\t\n",
      "EOS\n",
      "\n"
     ]
    }
   ],
   "source": [
    "print(mecab2.parse(\"沖縄・北谷。ロッテの藤原恭大外野手（１８）が１４日、中日との練習試合（北谷）に「１番・中堅」でスタメン出場。\"))"
   ]
  },
  {
   "cell_type": "markdown",
   "metadata": {},
   "source": [
    "# Most detailed information\n",
    "# 表層形\\t品詞,品詞細分類1,品詞細分類2,品詞細分類3,活用型,活用形,原形,読み,発音"
   ]
  },
  {
   "cell_type": "code",
   "execution_count": 5,
   "metadata": {},
   "outputs": [
    {
     "name": "stdout",
     "output_type": "stream",
     "text": [
      "明日\t名詞,副詞可能,*,*,*,*,明日,アシタ,アシタ\n",
      "は\t助詞,係助詞,*,*,*,*,は,ハ,ワ\n",
      "木曜日\t名詞,副詞可能,*,*,*,*,木曜日,モクヨウビ,モクヨービ\n",
      "です\t助動詞,*,*,*,特殊・デス,基本形,です,デス,デス\n",
      "よ\t助詞,終助詞,*,*,*,*,よ,ヨ,ヨ\n",
      "ね\t助詞,終助詞,*,*,*,*,ね,ネ,ネ\n",
      "。\t記号,句点,*,*,*,*,。,。,。\n",
      "木曜日\t名詞,副詞可能,*,*,*,*,木曜日,モクヨウビ,モクヨービ\n",
      "は\t助詞,係助詞,*,*,*,*,は,ハ,ワ\n",
      "ちょっと\t副詞,助詞類接続,*,*,*,*,ちょっと,チョット,チョット\n",
      "。\t記号,句点,*,*,*,*,。,。,。\n",
      "EOS\n",
      "\n"
     ]
    }
   ],
   "source": [
    "mecab3 = MeCab.Tagger(\"\")\n",
    "print(mecab3.parse(\"明日は木曜日ですよね。木曜日はちょっと。\"))"
   ]
  }
 ],
 "metadata": {
  "kernelspec": {
   "display_name": "Python 3",
   "language": "python",
   "name": "python3"
  },
  "language_info": {
   "codemirror_mode": {
    "name": "ipython",
    "version": 3
   },
   "file_extension": ".py",
   "mimetype": "text/x-python",
   "name": "python",
   "nbconvert_exporter": "python",
   "pygments_lexer": "ipython3",
   "version": "3.7.10"
  }
 },
 "nbformat": 4,
 "nbformat_minor": 2
}
